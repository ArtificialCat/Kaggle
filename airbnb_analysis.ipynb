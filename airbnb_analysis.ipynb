{
 "cells": [
  {
   "cell_type": "code",
   "execution_count": 1,
   "metadata": {
    "collapsed": false
   },
   "outputs": [
    {
     "name": "stderr",
     "output_type": "stream",
     "text": [
      "/Users/KimHongTae/anaconda/lib/python2.7/site-packages/matplotlib/font_manager.py:273: UserWarning: Matplotlib is building the font cache using fc-list. This may take a moment.\n",
      "  warnings.warn('Matplotlib is building the font cache using fc-list. This may take a moment.')\n",
      "/Users/KimHongTae/anaconda/lib/python2.7/site-packages/matplotlib/__init__.py:872: UserWarning: axes.color_cycle is deprecated and replaced with axes.prop_cycle; please use the latter.\n",
      "  warnings.warn(self.msg_depr % (key, alt_key))\n"
     ]
    }
   ],
   "source": [
    "from pandas import DataFrame, Series\n",
    "import pandas as pd\n",
    "import numpy as np\n",
    "import seaborn as sns\n",
    "from matplotlib import pyplot as plt\n",
    "from sklearn.ensemble import GradientBoostingClassifier\n",
    "\n",
    "# %matplotlib inline"
   ]
  },
  {
   "cell_type": "code",
   "execution_count": 2,
   "metadata": {
    "collapsed": false
   },
   "outputs": [],
   "source": [
    "# import xgboost\n",
    "# mymodel = XGBClassifier(<my parameters>)\n",
    "# mymodel.fit(train, labels )\n",
    "# mymodel.predict(test)"
   ]
  },
  {
   "cell_type": "markdown",
   "metadata": {},
   "source": [
    "# 1. Import Data & Determine attributes which need preprocessing \n",
    "\n",
    "## Dataset description\n",
    " - train_users: Train 단계에서 사용되는 user 데이터, Traffic 데이터와 Demographic 데이터로 구성되어 있음\n",
    " - test_users: Test 단계에서 사용되는 user 데이터, Train_users와 동일하나 예측 라벨인 country_destination이 없음\n",
    " - countries: 각 국가의 위도,경도,거리,면적,언어,levenstein dist.로 구성\n",
    " - sessions: 세션 단위로 수집된 유저 traffic 데이터, user id, session id 및 세션에서 발생한 event action에 대한 데이터\n",
    " - age_gender: age bucket, 예약 국가, 성별, 인구 수, 연도 데이터"
   ]
  },
  {
   "cell_type": "code",
   "execution_count": 3,
   "metadata": {
    "collapsed": false
   },
   "outputs": [
    {
     "name": "stdout",
     "output_type": "stream",
     "text": [
      "<class 'pandas.core.frame.DataFrame'>\n",
      "RangeIndex: 213451 entries, 0 to 213450\n",
      "Data columns (total 16 columns):\n",
      "id                         213451 non-null object\n",
      "date_account_created       213451 non-null object\n",
      "timestamp_first_active     213451 non-null int64\n",
      "date_first_booking         88908 non-null object\n",
      "gender                     213451 non-null object\n",
      "age                        125461 non-null float64\n",
      "signup_method              213451 non-null object\n",
      "signup_flow                213451 non-null int64\n",
      "language                   213451 non-null object\n",
      "affiliate_channel          213451 non-null object\n",
      "affiliate_provider         213451 non-null object\n",
      "first_affiliate_tracked    207386 non-null object\n",
      "signup_app                 213451 non-null object\n",
      "first_device_type          213451 non-null object\n",
      "first_browser              213451 non-null object\n",
      "country_destination        213451 non-null object\n",
      "dtypes: float64(1), int64(2), object(13)\n",
      "memory usage: 26.1+ MB\n",
      "<class 'pandas.core.frame.DataFrame'>\n",
      "RangeIndex: 62096 entries, 0 to 62095\n",
      "Data columns (total 15 columns):\n",
      "id                         62096 non-null object\n",
      "date_account_created       62096 non-null object\n",
      "timestamp_first_active     62096 non-null int64\n",
      "date_first_booking         0 non-null float64\n",
      "gender                     62096 non-null object\n",
      "age                        33220 non-null float64\n",
      "signup_method              62096 non-null object\n",
      "signup_flow                62096 non-null int64\n",
      "language                   62096 non-null object\n",
      "affiliate_channel          62096 non-null object\n",
      "affiliate_provider         62096 non-null object\n",
      "first_affiliate_tracked    62076 non-null object\n",
      "signup_app                 62096 non-null object\n",
      "first_device_type          62096 non-null object\n",
      "first_browser              62096 non-null object\n",
      "dtypes: float64(2), int64(2), object(11)\n",
      "memory usage: 7.1+ MB\n",
      "<class 'pandas.core.frame.DataFrame'>\n",
      "RangeIndex: 10 entries, 0 to 9\n",
      "Data columns (total 7 columns):\n",
      "country_destination              10 non-null object\n",
      "lat_destination                  10 non-null float64\n",
      "lng_destination                  10 non-null float64\n",
      "distance_km                      10 non-null float64\n",
      "destination_km2                  10 non-null float64\n",
      "destination_language             10 non-null object\n",
      "language_levenshtein_distance    10 non-null float64\n",
      "dtypes: float64(5), object(2)\n",
      "memory usage: 632.0+ bytes\n",
      "<class 'pandas.core.frame.DataFrame'>\n",
      "RangeIndex: 10567737 entries, 0 to 10567736\n",
      "Data columns (total 6 columns):\n",
      "user_id          object\n",
      "action           object\n",
      "action_type      object\n",
      "action_detail    object\n",
      "device_type      object\n",
      "secs_elapsed     float64\n",
      "dtypes: float64(1), object(5)\n",
      "memory usage: 483.8+ MB\n",
      "<class 'pandas.core.frame.DataFrame'>\n",
      "RangeIndex: 420 entries, 0 to 419\n",
      "Data columns (total 5 columns):\n",
      "age_bucket                 420 non-null object\n",
      "country_destination        420 non-null object\n",
      "gender                     420 non-null object\n",
      "population_in_thousands    420 non-null float64\n",
      "year                       420 non-null float64\n",
      "dtypes: float64(2), object(3)\n",
      "memory usage: 16.5+ KB\n"
     ]
    }
   ],
   "source": [
    "train_users = pd.read_csv(\"train_users_2.csv\")\n",
    "test_users = pd.read_csv(\"test_users 2.csv\")\n",
    "countries = pd.read_csv(\"countries.csv\")\n",
    "sessions = pd.read_csv(\"sessions 2.csv\")\n",
    "age_gender = pd.read_csv(\"age_gender_bkts.csv\")\n",
    "\n",
    "train_users.info(); test_users.info(); countries.info(); sessions.info(); age_gender.info();"
   ]
  },
  {
   "cell_type": "markdown",
   "metadata": {},
   "source": [
    "# 2. Data cleaning\n",
    "- Missing 데이터에 대한 처리: 연관 없는 '-100' 값으로 채움\n",
    "- Gender의 -unknown-값 처리: -100으로 처리\n",
    "- Missing이 존재하는 것으로 확인된 date_first_booking, age, first_affiliate_tracked, gender에 대해서 -100값으로 filling  \n",
    "- Value distribution 확인"
   ]
  },
  {
   "cell_type": "code",
   "execution_count": 19,
   "metadata": {
    "collapsed": false
   },
   "outputs": [
    {
     "data": {
      "text/plain": [
       "array(['-unknown-', 'MALE', 'FEMALE', 'OTHER'], dtype=object)"
      ]
     },
     "execution_count": 19,
     "metadata": {},
     "output_type": "execute_result"
    }
   ],
   "source": [
    "train_users['gender'].unique()"
   ]
  },
  {
   "cell_type": "code",
   "execution_count": 20,
   "metadata": {
    "collapsed": false
   },
   "outputs": [],
   "source": [
    "train_users[\"date_first_booking\"] = train_users[\"date_first_booking\"].fillna(-100)\n",
    "train_users[\"age\"] = train_users['age'].fillna(-100)\n",
    "train_users[\"first_affiliate_tracked\"] = train_users['first_affiliate_tracked'].fillna(-100)\n",
    "train_users[\"gender\"] = train_users[\"gender\"].apply((lambda x: \"-unknown-\" if x == -100 else x))"
   ]
  },
  {
   "cell_type": "markdown",
   "metadata": {},
   "source": [
    "# 2.1. \"Age\" attribute\n",
    "\n",
    "- Age의 Distribution 확인, 이상치 발견(ex. 1945, 120...): 이상치에 대해서 -100으로 처리함\n",
    "- Age에 대해서 5단위로 binning: 'age_binned' 필드 생성\n",
    "- Missing 데이터나 이상치 데이터가 전체 Training 데이터 213,451 중 약 90,000개 정도로 비율이 높음"
   ]
  },
  {
   "cell_type": "code",
   "execution_count": 21,
   "metadata": {
    "collapsed": false
   },
   "outputs": [
    {
     "data": {
      "text/html": [
       "<div>\n",
       "<table border=\"1\" class=\"dataframe\">\n",
       "  <thead>\n",
       "    <tr style=\"text-align: right;\">\n",
       "      <th></th>\n",
       "      <th>id</th>\n",
       "      <th>date_account_created</th>\n",
       "      <th>timestamp_first_active</th>\n",
       "      <th>date_first_booking</th>\n",
       "      <th>gender</th>\n",
       "      <th>age</th>\n",
       "      <th>signup_method</th>\n",
       "      <th>signup_flow</th>\n",
       "      <th>language</th>\n",
       "      <th>affiliate_channel</th>\n",
       "      <th>affiliate_provider</th>\n",
       "      <th>first_affiliate_tracked</th>\n",
       "      <th>signup_app</th>\n",
       "      <th>first_device_type</th>\n",
       "      <th>first_browser</th>\n",
       "      <th>country_destination</th>\n",
       "      <th>age_binned</th>\n",
       "    </tr>\n",
       "  </thead>\n",
       "  <tbody>\n",
       "    <tr>\n",
       "      <th>0</th>\n",
       "      <td>gxn3p5htnn</td>\n",
       "      <td>2010-06-28</td>\n",
       "      <td>20090319043255</td>\n",
       "      <td>-100</td>\n",
       "      <td>-unknown-</td>\n",
       "      <td>-100</td>\n",
       "      <td>facebook</td>\n",
       "      <td>0</td>\n",
       "      <td>en</td>\n",
       "      <td>direct</td>\n",
       "      <td>direct</td>\n",
       "      <td>untracked</td>\n",
       "      <td>Web</td>\n",
       "      <td>Mac Desktop</td>\n",
       "      <td>Chrome</td>\n",
       "      <td>NDF</td>\n",
       "      <td>-100</td>\n",
       "    </tr>\n",
       "    <tr>\n",
       "      <th>1</th>\n",
       "      <td>820tgsjxq7</td>\n",
       "      <td>2011-05-25</td>\n",
       "      <td>20090523174809</td>\n",
       "      <td>-100</td>\n",
       "      <td>MALE</td>\n",
       "      <td>38</td>\n",
       "      <td>facebook</td>\n",
       "      <td>0</td>\n",
       "      <td>en</td>\n",
       "      <td>seo</td>\n",
       "      <td>google</td>\n",
       "      <td>untracked</td>\n",
       "      <td>Web</td>\n",
       "      <td>Mac Desktop</td>\n",
       "      <td>Chrome</td>\n",
       "      <td>NDF</td>\n",
       "      <td>35</td>\n",
       "    </tr>\n",
       "    <tr>\n",
       "      <th>2</th>\n",
       "      <td>4ft3gnwmtx</td>\n",
       "      <td>2010-09-28</td>\n",
       "      <td>20090609231247</td>\n",
       "      <td>2010-08-02</td>\n",
       "      <td>FEMALE</td>\n",
       "      <td>56</td>\n",
       "      <td>basic</td>\n",
       "      <td>3</td>\n",
       "      <td>en</td>\n",
       "      <td>direct</td>\n",
       "      <td>direct</td>\n",
       "      <td>untracked</td>\n",
       "      <td>Web</td>\n",
       "      <td>Windows Desktop</td>\n",
       "      <td>IE</td>\n",
       "      <td>US</td>\n",
       "      <td>55</td>\n",
       "    </tr>\n",
       "    <tr>\n",
       "      <th>3</th>\n",
       "      <td>bjjt8pjhuk</td>\n",
       "      <td>2011-12-05</td>\n",
       "      <td>20091031060129</td>\n",
       "      <td>2012-09-08</td>\n",
       "      <td>FEMALE</td>\n",
       "      <td>42</td>\n",
       "      <td>facebook</td>\n",
       "      <td>0</td>\n",
       "      <td>en</td>\n",
       "      <td>direct</td>\n",
       "      <td>direct</td>\n",
       "      <td>untracked</td>\n",
       "      <td>Web</td>\n",
       "      <td>Mac Desktop</td>\n",
       "      <td>Firefox</td>\n",
       "      <td>other</td>\n",
       "      <td>40</td>\n",
       "    </tr>\n",
       "    <tr>\n",
       "      <th>4</th>\n",
       "      <td>87mebub9p4</td>\n",
       "      <td>2010-09-14</td>\n",
       "      <td>20091208061105</td>\n",
       "      <td>2010-02-18</td>\n",
       "      <td>-unknown-</td>\n",
       "      <td>41</td>\n",
       "      <td>basic</td>\n",
       "      <td>0</td>\n",
       "      <td>en</td>\n",
       "      <td>direct</td>\n",
       "      <td>direct</td>\n",
       "      <td>untracked</td>\n",
       "      <td>Web</td>\n",
       "      <td>Mac Desktop</td>\n",
       "      <td>Chrome</td>\n",
       "      <td>US</td>\n",
       "      <td>40</td>\n",
       "    </tr>\n",
       "  </tbody>\n",
       "</table>\n",
       "</div>"
      ],
      "text/plain": [
       "           id date_account_created  timestamp_first_active date_first_booking  \\\n",
       "0  gxn3p5htnn           2010-06-28          20090319043255               -100   \n",
       "1  820tgsjxq7           2011-05-25          20090523174809               -100   \n",
       "2  4ft3gnwmtx           2010-09-28          20090609231247         2010-08-02   \n",
       "3  bjjt8pjhuk           2011-12-05          20091031060129         2012-09-08   \n",
       "4  87mebub9p4           2010-09-14          20091208061105         2010-02-18   \n",
       "\n",
       "      gender  age signup_method  signup_flow language affiliate_channel  \\\n",
       "0  -unknown- -100      facebook            0       en            direct   \n",
       "1       MALE   38      facebook            0       en               seo   \n",
       "2     FEMALE   56         basic            3       en            direct   \n",
       "3     FEMALE   42      facebook            0       en            direct   \n",
       "4  -unknown-   41         basic            0       en            direct   \n",
       "\n",
       "  affiliate_provider first_affiliate_tracked signup_app first_device_type  \\\n",
       "0             direct               untracked        Web       Mac Desktop   \n",
       "1             google               untracked        Web       Mac Desktop   \n",
       "2             direct               untracked        Web   Windows Desktop   \n",
       "3             direct               untracked        Web       Mac Desktop   \n",
       "4             direct               untracked        Web       Mac Desktop   \n",
       "\n",
       "  first_browser country_destination  age_binned  \n",
       "0        Chrome                 NDF        -100  \n",
       "1        Chrome                 NDF          35  \n",
       "2            IE                  US          55  \n",
       "3       Firefox               other          40  \n",
       "4        Chrome                  US          40  "
      ]
     },
     "execution_count": 21,
     "metadata": {},
     "output_type": "execute_result"
    },
    {
     "data": {
      "image/png": "[encoded data removed]",
      "text/plain": [
       "<matplotlib.figure.Figure at 0x1299f61d0>"
      ]
     },
     "metadata": {},
     "output_type": "display_data"
    }
   ],
   "source": [
    "## Age attribute cleaning\n",
    "age_dist = train_users.groupby(\"age\", as_index=False).agg({\"id\":pd.Series.nunique})\n",
    "age_dist ## strange values exist (1945, 120, ...)\n",
    "\n",
    "## Age over 100 or incorrect input values(ex. 2014, 1945...) apply value '-100'. \n",
    "train_users['age']= train_users['age'].apply(lambda x: -100 if x>=100 else x)\n",
    "\n",
    "## After preprocessing\n",
    "sns.set(style=\"whitegrid\")\n",
    "train_users[\"age_binned\"] = map(lambda x: int(x/5)*5, train_users[\"age\"])  ## age binned by 5, (0~4, 5~9, 10~14,...)\n",
    "sns.countplot(x=\"age_binned\", data=train_users.sort_values(\"age_binned\",ascending=1))\n",
    "train_users.groupby(\"age_binned\", as_index=False).agg({\"id\":pd.Series.nunique})\n",
    "\n",
    "train_users.head()"
   ]
  },
  {
   "cell_type": "markdown",
   "metadata": {},
   "source": [
    "# 3. Data exploration\n",
    "\n",
    "### Booking Date, Create Date를 년/월/일로 파싱\n",
    "### 1. 연도별, 월별로 Booking 트렌드 확인\n",
    " + 2010~2014년도까지 Booking 수 증가\n",
    " + 일반적으로 1~6월로 갈수록 점차 증가\n",
    " + 5,6월에 Booking수가 최대로 증가 후에 7~12월에 다시 감소\n",
    " + 2014년도의 경우에 다른 년도와 다르게 7월 이후 Booking이 급감\n",
    "\n",
    "### 2. 성별, 나이대 별로 Booking 분포 확인\n",
    " + 20-30대가 주요 이용 고객\n",
    " + Gender가 unknown, 나이대 확인 불가능한 고객이 많음: age와 gender를 country_destination 예측에 주요변수로 활용하기 어려움\n",
    " + 일반적으로 여성이 남성보다 많이 사용\n",
    " \n",
    "### 3. 사용 언어별 유입 제휴 채널에 대한 확인\n",
    " + 사용 언어는 영어가 대부분: 대부분 사용국가는 미국,영국,호주와 같은 영어권 국가\n",
    " + 주요 유입 채널은 Direct가 대부분이며, 그 다음은 Brand Term의 Search Engine, Non-brand Term의 Search Engine을 통한 유입 순\n",
    " + 사용언어와 제휴 채널은 단일 Attribute로는 Classification을 위한 Information이 거의 없음\n",
    "\n",
    "### 4. 회원 가입 시 첫 사용 디바이스 분포 확인\n",
    " + 맥북 > 윈도우 기반 데스크탑 > 아이폰 > 아이패드 순\n",
    " + Facebook이나 Google 연동 기반 가입보다 기본 회원가입 비율이 높음"
   ]
  },
  {
   "cell_type": "code",
   "execution_count": 22,
   "metadata": {
    "collapsed": false
   },
   "outputs": [],
   "source": [
    "## Parsing Booking date - year/month/date\n",
    "\n",
    "def parse_booking_date(df):\n",
    "    temp = df[\"date_first_booking\"].str.split('-').apply(Series, 1).stack()\n",
    "    df['Booking_year'] = temp[:,0]\n",
    "    df['Booking_month'] = temp[:,1]\n",
    "    df['Booking_date'] = temp[:,2]\n",
    "    \n",
    "def parse_create_date(df):\n",
    "    temp = df['date_account_created'].str.split('-').apply(Series,1).stack()\n",
    "    df['Create_year']= temp[:,0]\n",
    "    df['Create_month']= temp[:,1]\n",
    "    df['Create_date']= temp[:,2]\n"
   ]
  },
  {
   "cell_type": "code",
   "execution_count": 23,
   "metadata": {
    "collapsed": false
   },
   "outputs": [],
   "source": [
    "parse_booking_date(train_users)\n",
    "parse_create_date(train_users)\n",
    "# train_users.head()"
   ]
  },
  {
   "cell_type": "code",
   "execution_count": 24,
   "metadata": {
    "collapsed": false
   },
   "outputs": [
    {
     "data": {
      "text/plain": [
       "<matplotlib.axes._subplots.AxesSubplot at 0x12e7d2150>"
      ]
     },
     "execution_count": 24,
     "metadata": {},
     "output_type": "execute_result"
    },
    {
     "data": {
      "image/png": "[encoded data removed]",
      "text/plain": [
       "<matplotlib.figure.Figure at 0x12f9cc850>"
      ]
     },
     "metadata": {},
     "output_type": "display_data"
    }
   ],
   "source": [
    "plt.subplots(nrows=2, ncols=2, figsize=(20,10))\n",
    "plt.subplot(221)\n",
    "sns.countplot(y='Booking_year',hue='Booking_month',\\\n",
    "              data=train_users.sort_values([\"Booking_year\",'Booking_month'], ascending=[0,1]))\n",
    "\n",
    "plt.subplot(222)\n",
    "sns.countplot(x='age_binned', hue='gender', data=train_users.sort_values(\"age_binned\",ascending=1))\n",
    "\n",
    "plt.subplot(223)\n",
    "sns.countplot(x='language', hue='affiliate_channel', data=train_users)\n",
    "\n",
    "plt.subplot(224)\n",
    "sns.countplot(x='signup_method', hue='first_device_type', data=train_users)"
   ]
  },
  {
   "cell_type": "code",
   "execution_count": 25,
   "metadata": {
    "collapsed": false
   },
   "outputs": [
    {
     "data": {
      "text/plain": [
       "<matplotlib.axes._subplots.AxesSubplot at 0x12f3e8f90>"
      ]
     },
     "execution_count": 25,
     "metadata": {},
     "output_type": "execute_result"
    },
    {
     "data": {
      "image/png": "[encoded data removed]",
      "text/plain": [
       "<matplotlib.figure.Figure at 0x12f9ea050>"
      ]
     },
     "metadata": {},
     "output_type": "display_data"
    }
   ],
   "source": [
    "plt.subplots(nrows=2, ncols=1, figsize=(20,10), sharex=True)\n",
    "\n",
    "plt.subplot(211)\n",
    "sns.countplot(x='Create_year', hue='Create_month',\\\n",
    "              data=train_users.sort_values([\"Create_year\",'Create_month'], ascending=[0,1]))\n",
    "\n",
    "plt.subplot(212)\n",
    "sns.countplot(x='Booking_year', hue='Booking_month',\\\n",
    "              data=train_users.sort_values(['Booking_year','Booking_month'], ascending=[0,1]))"
   ]
  },
  {
   "cell_type": "markdown",
   "metadata": {},
   "source": [
    "## 특성에 따른 Booking 여부 분류 확인\n",
    "\n",
    " + 성별에 따른 Booking/Non-booking 구분: 일반적으로 성별 구분이 Known일때보다, Unknown일 경우엔 Booking의 확률이 낮다.\n",
    " + 회원가입 방법에 따른 구분: 유의미한 차이가 보이지 않음\n",
    " + 유입 제휴 채널에 따른 구분: SEO를 통한 유입의 경우 Booking확률이 높음, brand, non-brand SEM보다 Direct를 통한 Booking확률이 더 높음\n",
    " + 언어에 따른 구분: 대부분 영어 사용국가가 이용, 큰 의미 없음"
   ]
  },
  {
   "cell_type": "code",
   "execution_count": 26,
   "metadata": {
    "collapsed": false
   },
   "outputs": [
    {
     "data": {
      "text/plain": [
       "<matplotlib.axes._subplots.AxesSubplot at 0x12e7328d0>"
      ]
     },
     "execution_count": 26,
     "metadata": {},
     "output_type": "execute_result"
    },
    {
     "data": {
      "image/png": "[encoded data removed]",
      "text/plain": [
       "<matplotlib.figure.Figure at 0x12ec6c490>"
      ]
     },
     "metadata": {},
     "output_type": "display_data"
    }
   ],
   "source": [
    "train_users['Booking_flag'] = train_users['date_first_booking'].apply(lambda x: 1 if x <> -100 else 0)\n",
    "\n",
    "plt.subplots(nrows=2, ncols=2, figsize=(20,10))\n",
    "\n",
    "plt.subplot(221)\n",
    "sns.countplot(x='gender', hue='Booking_flag', data=train_users.sort_values('gender', ascending=1))\n",
    "\n",
    "plt.subplot(222)\n",
    "sns.countplot(x='signup_method', hue='Booking_flag', data=train_users.sort_values('signup_method', ascending=1))\n",
    "\n",
    "plt.subplot(223)\n",
    "sns.countplot(x='affiliate_channel', hue='Booking_flag', data=train_users)\n",
    "\n",
    "plt.subplot(224)\n",
    "sns.countplot(x='language', hue='Booking_flag', data=train_users)"
   ]
  },
  {
   "cell_type": "code",
   "execution_count": 27,
   "metadata": {
    "collapsed": false
   },
   "outputs": [],
   "source": [
    "def crosstab_prob(df, a, b):\n",
    "    temp = pd.crosstab(df[a], df[b])\n",
    "    temp['Booking_prob'] = temp[1]/(temp[0]+temp[1])\n",
    "    return temp\n",
    "\n",
    "\n",
    "Booking_prob_gender=crosstab_prob(train_users, 'gender','Booking_flag')\n",
    "Booking_prob_signup_method = crosstab_prob(train_users, 'signup_method', 'Booking_flag')\n",
    "Booking_prob_lang = crosstab_prob(train_users, 'language', 'Booking_flag')\n",
    "Booking_prob_affiliate_channel = crosstab_prob(train_users, 'affiliate_channel', 'Booking_flag')\n",
    "Booking_prob_first_device = crosstab_prob(train_users, 'first_device_type', 'Booking_flag')\n",
    "Booking_prob_age_binned = crosstab_prob(train_users, 'age_binned', 'Booking_flag')"
   ]
  },
  {
   "cell_type": "code",
   "execution_count": 28,
   "metadata": {
    "collapsed": false
   },
   "outputs": [
    {
     "data": {
      "text/plain": [
       "<matplotlib.axes._subplots.AxesSubplot at 0x12cc73590>"
      ]
     },
     "execution_count": 28,
     "metadata": {},
     "output_type": "execute_result"
    },
    {
     "data": {
      "image/png": "[encoded data removed]",
      "text/plain": [
       "<matplotlib.figure.Figure at 0x12eaef790>"
      ]
     },
     "metadata": {},
     "output_type": "display_data"
    }
   ],
   "source": [
    "plt.subplots(nrows=2, ncols=3, figsize=(20,10))\n",
    "\n",
    "plt.subplot(231)\n",
    "sns.distplot(Booking_prob_age_binned['Booking_prob'])\n",
    "\n",
    "plt.subplot(232)\n",
    "sns.distplot(Booking_prob_signup_method['Booking_prob'])\n",
    "\n",
    "plt.subplot(233)\n",
    "sns.distplot(Booking_prob_lang['Booking_prob'])\n",
    "\n",
    "plt.subplot(234)\n",
    "sns.distplot(Booking_prob_first_device['Booking_prob'])\n",
    "\n",
    "plt.subplot(235)\n",
    "sns.distplot(Booking_prob_affiliate_channel['Booking_prob'])\n",
    "\n",
    "plt.subplot(236)\n",
    "sns.distplot(Booking_prob_gender['Booking_prob'])"
   ]
  },
  {
   "cell_type": "code",
   "execution_count": 29,
   "metadata": {
    "collapsed": false
   },
   "outputs": [
    {
     "data": {
      "text/html": [
       "<div>\n",
       "<table border=\"1\" class=\"dataframe\">\n",
       "  <thead>\n",
       "    <tr style=\"text-align: right;\">\n",
       "      <th></th>\n",
       "      <th>id</th>\n",
       "      <th>date_account_created</th>\n",
       "      <th>timestamp_first_active</th>\n",
       "      <th>date_first_booking</th>\n",
       "      <th>gender</th>\n",
       "      <th>age</th>\n",
       "      <th>signup_method</th>\n",
       "      <th>signup_flow</th>\n",
       "      <th>language</th>\n",
       "      <th>affiliate_channel</th>\n",
       "      <th>...</th>\n",
       "      <th>Booking_month</th>\n",
       "      <th>Booking_date</th>\n",
       "      <th>Create_year</th>\n",
       "      <th>Create_month</th>\n",
       "      <th>Create_date</th>\n",
       "      <th>Booking_flag</th>\n",
       "      <th>user_id</th>\n",
       "      <th>action</th>\n",
       "      <th>secs_elapsed</th>\n",
       "      <th>device_type</th>\n",
       "    </tr>\n",
       "  </thead>\n",
       "  <tbody>\n",
       "    <tr>\n",
       "      <th>0</th>\n",
       "      <td>gxn3p5htnn</td>\n",
       "      <td>2010-06-28</td>\n",
       "      <td>20090319043255</td>\n",
       "      <td>-100</td>\n",
       "      <td>-unknown-</td>\n",
       "      <td>-100</td>\n",
       "      <td>facebook</td>\n",
       "      <td>0</td>\n",
       "      <td>en</td>\n",
       "      <td>direct</td>\n",
       "      <td>...</td>\n",
       "      <td>NaN</td>\n",
       "      <td>NaN</td>\n",
       "      <td>2010</td>\n",
       "      <td>06</td>\n",
       "      <td>28</td>\n",
       "      <td>0</td>\n",
       "      <td>NaN</td>\n",
       "      <td>NaN</td>\n",
       "      <td>NaN</td>\n",
       "      <td>NaN</td>\n",
       "    </tr>\n",
       "    <tr>\n",
       "      <th>1</th>\n",
       "      <td>820tgsjxq7</td>\n",
       "      <td>2011-05-25</td>\n",
       "      <td>20090523174809</td>\n",
       "      <td>-100</td>\n",
       "      <td>MALE</td>\n",
       "      <td>38</td>\n",
       "      <td>facebook</td>\n",
       "      <td>0</td>\n",
       "      <td>en</td>\n",
       "      <td>seo</td>\n",
       "      <td>...</td>\n",
       "      <td>NaN</td>\n",
       "      <td>NaN</td>\n",
       "      <td>2011</td>\n",
       "      <td>05</td>\n",
       "      <td>25</td>\n",
       "      <td>0</td>\n",
       "      <td>NaN</td>\n",
       "      <td>NaN</td>\n",
       "      <td>NaN</td>\n",
       "      <td>NaN</td>\n",
       "    </tr>\n",
       "    <tr>\n",
       "      <th>2</th>\n",
       "      <td>4ft3gnwmtx</td>\n",
       "      <td>2010-09-28</td>\n",
       "      <td>20090609231247</td>\n",
       "      <td>2010-08-02</td>\n",
       "      <td>FEMALE</td>\n",
       "      <td>56</td>\n",
       "      <td>basic</td>\n",
       "      <td>3</td>\n",
       "      <td>en</td>\n",
       "      <td>direct</td>\n",
       "      <td>...</td>\n",
       "      <td>08</td>\n",
       "      <td>02</td>\n",
       "      <td>2010</td>\n",
       "      <td>09</td>\n",
       "      <td>28</td>\n",
       "      <td>1</td>\n",
       "      <td>NaN</td>\n",
       "      <td>NaN</td>\n",
       "      <td>NaN</td>\n",
       "      <td>NaN</td>\n",
       "    </tr>\n",
       "    <tr>\n",
       "      <th>3</th>\n",
       "      <td>bjjt8pjhuk</td>\n",
       "      <td>2011-12-05</td>\n",
       "      <td>20091031060129</td>\n",
       "      <td>2012-09-08</td>\n",
       "      <td>FEMALE</td>\n",
       "      <td>42</td>\n",
       "      <td>facebook</td>\n",
       "      <td>0</td>\n",
       "      <td>en</td>\n",
       "      <td>direct</td>\n",
       "      <td>...</td>\n",
       "      <td>09</td>\n",
       "      <td>08</td>\n",
       "      <td>2011</td>\n",
       "      <td>12</td>\n",
       "      <td>05</td>\n",
       "      <td>1</td>\n",
       "      <td>NaN</td>\n",
       "      <td>NaN</td>\n",
       "      <td>NaN</td>\n",
       "      <td>NaN</td>\n",
       "    </tr>\n",
       "    <tr>\n",
       "      <th>4</th>\n",
       "      <td>87mebub9p4</td>\n",
       "      <td>2010-09-14</td>\n",
       "      <td>20091208061105</td>\n",
       "      <td>2010-02-18</td>\n",
       "      <td>-unknown-</td>\n",
       "      <td>41</td>\n",
       "      <td>basic</td>\n",
       "      <td>0</td>\n",
       "      <td>en</td>\n",
       "      <td>direct</td>\n",
       "      <td>...</td>\n",
       "      <td>02</td>\n",
       "      <td>18</td>\n",
       "      <td>2010</td>\n",
       "      <td>09</td>\n",
       "      <td>14</td>\n",
       "      <td>1</td>\n",
       "      <td>NaN</td>\n",
       "      <td>NaN</td>\n",
       "      <td>NaN</td>\n",
       "      <td>NaN</td>\n",
       "    </tr>\n",
       "  </tbody>\n",
       "</table>\n",
       "<p>5 rows × 28 columns</p>\n",
       "</div>"
      ],
      "text/plain": [
       "           id date_account_created  timestamp_first_active date_first_booking  \\\n",
       "0  gxn3p5htnn           2010-06-28          20090319043255               -100   \n",
       "1  820tgsjxq7           2011-05-25          20090523174809               -100   \n",
       "2  4ft3gnwmtx           2010-09-28          20090609231247         2010-08-02   \n",
       "3  bjjt8pjhuk           2011-12-05          20091031060129         2012-09-08   \n",
       "4  87mebub9p4           2010-09-14          20091208061105         2010-02-18   \n",
       "\n",
       "      gender  age signup_method  signup_flow language affiliate_channel  \\\n",
       "0  -unknown- -100      facebook            0       en            direct   \n",
       "1       MALE   38      facebook            0       en               seo   \n",
       "2     FEMALE   56         basic            3       en            direct   \n",
       "3     FEMALE   42      facebook            0       en            direct   \n",
       "4  -unknown-   41         basic            0       en            direct   \n",
       "\n",
       "      ...     Booking_month Booking_date Create_year Create_month Create_date  \\\n",
       "0     ...               NaN          NaN        2010           06          28   \n",
       "1     ...               NaN          NaN        2011           05          25   \n",
       "2     ...                08           02        2010           09          28   \n",
       "3     ...                09           08        2011           12          05   \n",
       "4     ...                02           18        2010           09          14   \n",
       "\n",
       "  Booking_flag  user_id action secs_elapsed device_type  \n",
       "0            0      NaN    NaN          NaN         NaN  \n",
       "1            0      NaN    NaN          NaN         NaN  \n",
       "2            1      NaN    NaN          NaN         NaN  \n",
       "3            1      NaN    NaN          NaN         NaN  \n",
       "4            1      NaN    NaN          NaN         NaN  \n",
       "\n",
       "[5 rows x 28 columns]"
      ]
     },
     "execution_count": 29,
     "metadata": {},
     "output_type": "execute_result"
    }
   ],
   "source": [
    "session_stat = sessions.groupby('user_id', as_index=False).agg({'action':pd.Series.nunique,\\\n",
    "                                                                'secs_elapsed':pd.Series.sum,\\\n",
    "                                                                'device_type':pd.Series.nunique})\n",
    "user_join_session = pd.merge(train_users, session_stat, how='left', left_on='id', right_on='user_id',\\\n",
    "                            suffixes=('_x','_y'), copy=True)\n",
    "\n",
    "user_join_session.head()"
   ]
  },
  {
   "cell_type": "markdown",
   "metadata": {},
   "source": [
    "## Session 데이터를 통한 접속 시간 분포 확인"
   ]
  },
  {
   "cell_type": "code",
   "execution_count": 30,
   "metadata": {
    "collapsed": false
   },
   "outputs": [
    {
     "data": {
      "text/plain": [
       "<matplotlib.axes._subplots.AxesSubplot at 0x1341c3e10>"
      ]
     },
     "execution_count": 30,
     "metadata": {},
     "output_type": "execute_result"
    },
    {
     "data": {
      "image/png": "[encoded data removed]",
      "text/plain": [
       "<matplotlib.figure.Figure at 0x12eba9e50>"
      ]
     },
     "metadata": {},
     "output_type": "display_data"
    }
   ],
   "source": [
    "temp = user_join_session[pd.notnull(user_join_session['user_id'])==True]\n",
    "temp.head()\n",
    "\n",
    "# ax = sns.boxplot(x=\"secs_elapsed\", y=\"Booking_flag\", data=temp)\n",
    "sns.distplot(temp['secs_elapsed'], kde=False, color='b')\n",
    "\n",
    "# g = sns.lmplot(x=\"action\", y=\"secs_elapsed\", col=\"Booking_flag\", data=temp)"
   ]
  },
  {
   "cell_type": "markdown",
   "metadata": {},
   "source": [
    "## Dimension Reduction\n",
    "### Train_users데이터에서 유의미하지 않게 생각되는 데이터 및 Modeling에 사용할 수 없는 데이터 제거\n",
    "+ date_account_created, timestamp_first_active, Booking year/month/date, id, Booking 여부(country_destination과 중복), first booking date 제거"
   ]
  },
  {
   "cell_type": "code",
   "execution_count": 31,
   "metadata": {
    "collapsed": false
   },
   "outputs": [
    {
     "name": "stdout",
     "output_type": "stream",
     "text": [
      "<class 'pandas.core.frame.DataFrame'>\n",
      "Int64Index: 213451 entries, 0 to 213450\n",
      "Data columns (total 24 columns):\n",
      "id                         213451 non-null object\n",
      "date_account_created       213451 non-null object\n",
      "timestamp_first_active     213451 non-null int64\n",
      "date_first_booking         213451 non-null object\n",
      "gender                     213451 non-null object\n",
      "age                        213451 non-null float64\n",
      "signup_method              213451 non-null object\n",
      "signup_flow                213451 non-null int64\n",
      "language                   213451 non-null object\n",
      "affiliate_channel          213451 non-null object\n",
      "affiliate_provider         213451 non-null object\n",
      "first_affiliate_tracked    213451 non-null object\n",
      "signup_app                 213451 non-null object\n",
      "first_device_type          213451 non-null object\n",
      "first_browser              213451 non-null object\n",
      "country_destination        213451 non-null object\n",
      "age_binned                 213451 non-null int64\n",
      "Booking_year               88908 non-null object\n",
      "Booking_month              88908 non-null object\n",
      "Booking_date               88908 non-null object\n",
      "Create_year                213451 non-null object\n",
      "Create_month               213451 non-null object\n",
      "Create_date                213451 non-null object\n",
      "Booking_flag               213451 non-null int64\n",
      "dtypes: float64(1), int64(4), object(19)\n",
      "memory usage: 40.7+ MB\n"
     ]
    }
   ],
   "source": [
    "train_users.info()\n",
    "\n",
    "X=train_users.drop(['date_account_created','timestamp_first_active','Booking_year','Booking_month'\\\n",
    "                    ,'Booking_date','id','Booking_flag','country_destination','date_first_booking'], axis=1)\n",
    "y=train_users['Booking_flag']"
   ]
  },
  {
   "cell_type": "code",
   "execution_count": 32,
   "metadata": {
    "collapsed": false
   },
   "outputs": [
    {
     "name": "stdout",
     "output_type": "stream",
     "text": [
      "<class 'pandas.core.frame.DataFrame'>\n",
      "Int64Index: 213451 entries, 0 to 213450\n",
      "Data columns (total 24 columns):\n",
      "id                         213451 non-null object\n",
      "date_account_created       213451 non-null int64\n",
      "timestamp_first_active     213451 non-null int64\n",
      "date_first_booking         213451 non-null int64\n",
      "gender                     213451 non-null int64\n",
      "age                        213451 non-null float64\n",
      "signup_method              213451 non-null int64\n",
      "signup_flow                213451 non-null int64\n",
      "language                   213451 non-null int64\n",
      "affiliate_channel          213451 non-null int64\n",
      "affiliate_provider         213451 non-null int64\n",
      "first_affiliate_tracked    213451 non-null int64\n",
      "signup_app                 213451 non-null int64\n",
      "first_device_type          213451 non-null int64\n",
      "first_browser              213451 non-null int64\n",
      "country_destination        213451 non-null object\n",
      "age_binned                 213451 non-null int64\n",
      "Booking_year               213451 non-null int64\n",
      "Booking_month              213451 non-null int64\n",
      "Booking_date               213451 non-null int64\n",
      "Create_year                213451 non-null int64\n",
      "Create_month               213451 non-null int64\n",
      "Create_date                213451 non-null int64\n",
      "Booking_flag               213451 non-null int64\n",
      "dtypes: float64(1), int64(21), object(2)\n",
      "memory usage: 40.7+ MB\n"
     ]
    },
    {
     "data": {
      "text/html": [
       "<div>\n",
       "<table border=\"1\" class=\"dataframe\">\n",
       "  <thead>\n",
       "    <tr style=\"text-align: right;\">\n",
       "      <th></th>\n",
       "      <th>id</th>\n",
       "      <th>date_account_created</th>\n",
       "      <th>timestamp_first_active</th>\n",
       "      <th>date_first_booking</th>\n",
       "      <th>gender</th>\n",
       "      <th>age</th>\n",
       "      <th>signup_method</th>\n",
       "      <th>signup_flow</th>\n",
       "      <th>language</th>\n",
       "      <th>affiliate_channel</th>\n",
       "      <th>...</th>\n",
       "      <th>first_browser</th>\n",
       "      <th>country_destination</th>\n",
       "      <th>age_binned</th>\n",
       "      <th>Booking_year</th>\n",
       "      <th>Booking_month</th>\n",
       "      <th>Booking_date</th>\n",
       "      <th>Create_year</th>\n",
       "      <th>Create_month</th>\n",
       "      <th>Create_date</th>\n",
       "      <th>Booking_flag</th>\n",
       "    </tr>\n",
       "  </thead>\n",
       "  <tbody>\n",
       "    <tr>\n",
       "      <th>0</th>\n",
       "      <td>gxn3p5htnn</td>\n",
       "      <td>170</td>\n",
       "      <td>20090319043255</td>\n",
       "      <td>0</td>\n",
       "      <td>0</td>\n",
       "      <td>-100</td>\n",
       "      <td>1</td>\n",
       "      <td>0</td>\n",
       "      <td>5</td>\n",
       "      <td>2</td>\n",
       "      <td>...</td>\n",
       "      <td>8</td>\n",
       "      <td>NDF</td>\n",
       "      <td>-100</td>\n",
       "      <td>6</td>\n",
       "      <td>12</td>\n",
       "      <td>31</td>\n",
       "      <td>0</td>\n",
       "      <td>5</td>\n",
       "      <td>27</td>\n",
       "      <td>0</td>\n",
       "    </tr>\n",
       "    <tr>\n",
       "      <th>1</th>\n",
       "      <td>820tgsjxq7</td>\n",
       "      <td>501</td>\n",
       "      <td>20090523174809</td>\n",
       "      <td>0</td>\n",
       "      <td>2</td>\n",
       "      <td>38</td>\n",
       "      <td>1</td>\n",
       "      <td>0</td>\n",
       "      <td>5</td>\n",
       "      <td>7</td>\n",
       "      <td>...</td>\n",
       "      <td>8</td>\n",
       "      <td>NDF</td>\n",
       "      <td>35</td>\n",
       "      <td>6</td>\n",
       "      <td>12</td>\n",
       "      <td>31</td>\n",
       "      <td>1</td>\n",
       "      <td>4</td>\n",
       "      <td>24</td>\n",
       "      <td>0</td>\n",
       "    </tr>\n",
       "    <tr>\n",
       "      <th>2</th>\n",
       "      <td>4ft3gnwmtx</td>\n",
       "      <td>262</td>\n",
       "      <td>20090609231247</td>\n",
       "      <td>193</td>\n",
       "      <td>1</td>\n",
       "      <td>56</td>\n",
       "      <td>0</td>\n",
       "      <td>3</td>\n",
       "      <td>5</td>\n",
       "      <td>2</td>\n",
       "      <td>...</td>\n",
       "      <td>21</td>\n",
       "      <td>US</td>\n",
       "      <td>55</td>\n",
       "      <td>0</td>\n",
       "      <td>7</td>\n",
       "      <td>1</td>\n",
       "      <td>0</td>\n",
       "      <td>8</td>\n",
       "      <td>27</td>\n",
       "      <td>1</td>\n",
       "    </tr>\n",
       "    <tr>\n",
       "      <th>3</th>\n",
       "      <td>bjjt8pjhuk</td>\n",
       "      <td>695</td>\n",
       "      <td>20091031060129</td>\n",
       "      <td>959</td>\n",
       "      <td>1</td>\n",
       "      <td>42</td>\n",
       "      <td>1</td>\n",
       "      <td>0</td>\n",
       "      <td>5</td>\n",
       "      <td>2</td>\n",
       "      <td>...</td>\n",
       "      <td>17</td>\n",
       "      <td>other</td>\n",
       "      <td>40</td>\n",
       "      <td>2</td>\n",
       "      <td>8</td>\n",
       "      <td>7</td>\n",
       "      <td>1</td>\n",
       "      <td>11</td>\n",
       "      <td>4</td>\n",
       "      <td>1</td>\n",
       "    </tr>\n",
       "    <tr>\n",
       "      <th>4</th>\n",
       "      <td>87mebub9p4</td>\n",
       "      <td>248</td>\n",
       "      <td>20091208061105</td>\n",
       "      <td>34</td>\n",
       "      <td>0</td>\n",
       "      <td>41</td>\n",
       "      <td>0</td>\n",
       "      <td>0</td>\n",
       "      <td>5</td>\n",
       "      <td>2</td>\n",
       "      <td>...</td>\n",
       "      <td>8</td>\n",
       "      <td>US</td>\n",
       "      <td>40</td>\n",
       "      <td>0</td>\n",
       "      <td>1</td>\n",
       "      <td>17</td>\n",
       "      <td>0</td>\n",
       "      <td>8</td>\n",
       "      <td>13</td>\n",
       "      <td>1</td>\n",
       "    </tr>\n",
       "  </tbody>\n",
       "</table>\n",
       "<p>5 rows × 24 columns</p>\n",
       "</div>"
      ],
      "text/plain": [
       "           id  date_account_created  timestamp_first_active  \\\n",
       "0  gxn3p5htnn                   170          20090319043255   \n",
       "1  820tgsjxq7                   501          20090523174809   \n",
       "2  4ft3gnwmtx                   262          20090609231247   \n",
       "3  bjjt8pjhuk                   695          20091031060129   \n",
       "4  87mebub9p4                   248          20091208061105   \n",
       "\n",
       "   date_first_booking  gender  age  signup_method  signup_flow  language  \\\n",
       "0                   0       0 -100              1            0         5   \n",
       "1                   0       2   38              1            0         5   \n",
       "2                 193       1   56              0            3         5   \n",
       "3                 959       1   42              1            0         5   \n",
       "4                  34       0   41              0            0         5   \n",
       "\n",
       "   affiliate_channel      ...       first_browser  country_destination  \\\n",
       "0                  2      ...                   8                  NDF   \n",
       "1                  7      ...                   8                  NDF   \n",
       "2                  2      ...                  21                   US   \n",
       "3                  2      ...                  17                other   \n",
       "4                  2      ...                   8                   US   \n",
       "\n",
       "   age_binned  Booking_year  Booking_month Booking_date  Create_year  \\\n",
       "0        -100             6             12           31            0   \n",
       "1          35             6             12           31            1   \n",
       "2          55             0              7            1            0   \n",
       "3          40             2              8            7            1   \n",
       "4          40             0              1           17            0   \n",
       "\n",
       "   Create_month  Create_date  Booking_flag  \n",
       "0             5           27             0  \n",
       "1             4           24             0  \n",
       "2             8           27             1  \n",
       "3            11            4             1  \n",
       "4             8           13             1  \n",
       "\n",
       "[5 rows x 24 columns]"
      ]
     },
     "execution_count": 32,
     "metadata": {},
     "output_type": "execute_result"
    }
   ],
   "source": [
    "from sklearn import preprocessing\n",
    "\n",
    "for f in train_users.columns:\n",
    "    if f == \"country_destination\" or f == \"id\": continue\n",
    "    if train_users[f].dtype == 'object':\n",
    "        lbl = preprocessing.LabelEncoder()\n",
    "        lbl.fit(np.unique(list(train_users[f].values)))\n",
    "        train_users[f] = lbl.transform(list(train_users[f].values))\n",
    "\n",
    "train_users.info()\n",
    "train_users.head()\n"
   ]
  },
  {
   "cell_type": "code",
   "execution_count": 33,
   "metadata": {
    "collapsed": false
   },
   "outputs": [
    {
     "name": "stdout",
     "output_type": "stream",
     "text": [
      "<class 'pandas.core.frame.DataFrame'>\n",
      "Int64Index: 213451 entries, 0 to 213450\n",
      "Data columns (total 24 columns):\n",
      "id                         213451 non-null object\n",
      "date_account_created       213451 non-null int64\n",
      "timestamp_first_active     213451 non-null int64\n",
      "date_first_booking         213451 non-null int64\n",
      "gender                     213451 non-null int64\n",
      "age                        213451 non-null float64\n",
      "signup_method              213451 non-null int64\n",
      "signup_flow                213451 non-null int64\n",
      "language                   213451 non-null int64\n",
      "affiliate_channel          213451 non-null int64\n",
      "affiliate_provider         213451 non-null int64\n",
      "first_affiliate_tracked    213451 non-null int64\n",
      "signup_app                 213451 non-null int64\n",
      "first_device_type          213451 non-null int64\n",
      "first_browser              213451 non-null int64\n",
      "country_destination        213451 non-null object\n",
      "age_binned                 213451 non-null int64\n",
      "Booking_year               213451 non-null int64\n",
      "Booking_month              213451 non-null int64\n",
      "Booking_date               213451 non-null int64\n",
      "Create_year                213451 non-null int64\n",
      "Create_month               213451 non-null int64\n",
      "Create_date                213451 non-null int64\n",
      "Booking_flag               213451 non-null int64\n",
      "dtypes: float64(1), int64(21), object(2)\n",
      "memory usage: 40.7+ MB\n"
     ]
    }
   ],
   "source": [
    "train_users.info()"
   ]
  },
  {
   "cell_type": "code",
   "execution_count": 34,
   "metadata": {
    "collapsed": false
   },
   "outputs": [
    {
     "name": "stdout",
     "output_type": "stream",
     "text": [
      "0.671381465959\n"
     ]
    },
    {
     "data": {
      "text/html": [
       "<div>\n",
       "<table border=\"1\" class=\"dataframe\">\n",
       "  <thead>\n",
       "    <tr style=\"text-align: right;\">\n",
       "      <th></th>\n",
       "      <th>gender</th>\n",
       "      <th>age</th>\n",
       "      <th>signup_method</th>\n",
       "      <th>signup_flow</th>\n",
       "      <th>language</th>\n",
       "    </tr>\n",
       "  </thead>\n",
       "  <tbody>\n",
       "    <tr>\n",
       "      <th>0</th>\n",
       "      <td>0</td>\n",
       "      <td>-100</td>\n",
       "      <td>1</td>\n",
       "      <td>0</td>\n",
       "      <td>5</td>\n",
       "    </tr>\n",
       "    <tr>\n",
       "      <th>1</th>\n",
       "      <td>2</td>\n",
       "      <td>38</td>\n",
       "      <td>1</td>\n",
       "      <td>0</td>\n",
       "      <td>5</td>\n",
       "    </tr>\n",
       "    <tr>\n",
       "      <th>2</th>\n",
       "      <td>1</td>\n",
       "      <td>56</td>\n",
       "      <td>0</td>\n",
       "      <td>3</td>\n",
       "      <td>5</td>\n",
       "    </tr>\n",
       "    <tr>\n",
       "      <th>3</th>\n",
       "      <td>1</td>\n",
       "      <td>42</td>\n",
       "      <td>1</td>\n",
       "      <td>0</td>\n",
       "      <td>5</td>\n",
       "    </tr>\n",
       "    <tr>\n",
       "      <th>4</th>\n",
       "      <td>0</td>\n",
       "      <td>41</td>\n",
       "      <td>0</td>\n",
       "      <td>0</td>\n",
       "      <td>5</td>\n",
       "    </tr>\n",
       "  </tbody>\n",
       "</table>\n",
       "</div>"
      ],
      "text/plain": [
       "   gender  age  signup_method  signup_flow  language\n",
       "0       0 -100              1            0         5\n",
       "1       2   38              1            0         5\n",
       "2       1   56              0            3         5\n",
       "3       1   42              1            0         5\n",
       "4       0   41              0            0         5"
      ]
     },
     "execution_count": 34,
     "metadata": {},
     "output_type": "execute_result"
    }
   ],
   "source": [
    "from sklearn.cross_validation import cross_val_score\n",
    "from sklearn.datasets import make_blobs\n",
    "from sklearn.ensemble import RandomForestClassifier\n",
    "from sklearn.ensemble import ExtraTreesClassifier\n",
    "from sklearn.tree import DecisionTreeClassifier\n",
    "\n",
    "\n",
    "X=train_users.drop(['id','date_account_created','timestamp_first_active','date_first_booking',\\\n",
    "                    'first_affiliate_tracked','signup_app','age_binned','Booking_year','Booking_month',\\\n",
    "                    'Booking_date','Create_year','Create_month','Create_date','country_destination','affiliate_channel',\\\n",
    "                    'affiliate_provider','first_browser','first_device_type','Booking_flag'], axis=1)\n",
    "y=train_users['Booking_flag']\n",
    "\n",
    "clf = RandomForestClassifier(n_estimators=500, max_depth=None,min_samples_split=1, random_state=0)\n",
    "scores = cross_val_score(clf, X, y)\n",
    "print scores.mean()  \n",
    "\n",
    "X.head()"
   ]
  },
  {
   "cell_type": "code",
   "execution_count": 35,
   "metadata": {
    "collapsed": false
   },
   "outputs": [
    {
     "name": "stdout",
     "output_type": "stream",
     "text": [
      "RandomForestClassifier(bootstrap=True, class_weight=None, criterion='gini',\n",
      "            max_depth=None, max_features='auto', max_leaf_nodes=None,\n",
      "            min_samples_leaf=1, min_samples_split=1,\n",
      "            min_weight_fraction_leaf=0.0, n_estimators=500, n_jobs=1,\n",
      "            oob_score=False, random_state=0, verbose=0, warm_start=False)\n",
      "[ 0.13526998  0.54430533  0.17391217  0.11580945  0.03070307]\n",
      "False\n"
     ]
    }
   ],
   "source": [
    "print clf.fit(X,y)\n",
    "\n",
    "print clf.feature_importances_\n",
    "# print clf.class_weight\n",
    "# print clf.criterion\n",
    "# print clf.estimator_params\n",
    "# print clf.predict\n",
    "print clf.oob_score"
   ]
  },
  {
   "cell_type": "markdown",
   "metadata": {},
   "source": [
    "## Session  데이터 전처리 및 확인\n",
    "### "
   ]
  },
  {
   "cell_type": "code",
   "execution_count": 36,
   "metadata": {
    "collapsed": false
   },
   "outputs": [
    {
     "data": {
      "text/html": [
       "<div>\n",
       "<table border=\"1\" class=\"dataframe\">\n",
       "  <thead>\n",
       "    <tr style=\"text-align: right;\">\n",
       "      <th></th>\n",
       "      <th>user_id</th>\n",
       "      <th>action</th>\n",
       "      <th>action_type</th>\n",
       "      <th>action_detail</th>\n",
       "      <th>device_type</th>\n",
       "      <th>secs_elapsed</th>\n",
       "    </tr>\n",
       "  </thead>\n",
       "  <tbody>\n",
       "    <tr>\n",
       "      <th>0</th>\n",
       "      <td>d1mm9tcy42</td>\n",
       "      <td>lookup</td>\n",
       "      <td>NaN</td>\n",
       "      <td>-100</td>\n",
       "      <td>Windows Desktop</td>\n",
       "      <td>319</td>\n",
       "    </tr>\n",
       "    <tr>\n",
       "      <th>1</th>\n",
       "      <td>d1mm9tcy42</td>\n",
       "      <td>search_results</td>\n",
       "      <td>click</td>\n",
       "      <td>view_search_results</td>\n",
       "      <td>Windows Desktop</td>\n",
       "      <td>67753</td>\n",
       "    </tr>\n",
       "    <tr>\n",
       "      <th>2</th>\n",
       "      <td>d1mm9tcy42</td>\n",
       "      <td>lookup</td>\n",
       "      <td>NaN</td>\n",
       "      <td>-100</td>\n",
       "      <td>Windows Desktop</td>\n",
       "      <td>301</td>\n",
       "    </tr>\n",
       "    <tr>\n",
       "      <th>3</th>\n",
       "      <td>d1mm9tcy42</td>\n",
       "      <td>search_results</td>\n",
       "      <td>click</td>\n",
       "      <td>view_search_results</td>\n",
       "      <td>Windows Desktop</td>\n",
       "      <td>22141</td>\n",
       "    </tr>\n",
       "    <tr>\n",
       "      <th>4</th>\n",
       "      <td>d1mm9tcy42</td>\n",
       "      <td>lookup</td>\n",
       "      <td>NaN</td>\n",
       "      <td>-100</td>\n",
       "      <td>Windows Desktop</td>\n",
       "      <td>435</td>\n",
       "    </tr>\n",
       "  </tbody>\n",
       "</table>\n",
       "</div>"
      ],
      "text/plain": [
       "      user_id          action action_type        action_detail  \\\n",
       "0  d1mm9tcy42          lookup         NaN                 -100   \n",
       "1  d1mm9tcy42  search_results       click  view_search_results   \n",
       "2  d1mm9tcy42          lookup         NaN                 -100   \n",
       "3  d1mm9tcy42  search_results       click  view_search_results   \n",
       "4  d1mm9tcy42          lookup         NaN                 -100   \n",
       "\n",
       "       device_type  secs_elapsed  \n",
       "0  Windows Desktop           319  \n",
       "1  Windows Desktop         67753  \n",
       "2  Windows Desktop           301  \n",
       "3  Windows Desktop         22141  \n",
       "4  Windows Desktop           435  "
      ]
     },
     "execution_count": 36,
     "metadata": {},
     "output_type": "execute_result"
    }
   ],
   "source": [
    "sessions['action_detail'] = sessions['action_detail'].fillna('-100')\n",
    "sessions.head()"
   ]
  },
  {
   "cell_type": "code",
   "execution_count": 37,
   "metadata": {
    "collapsed": false,
    "scrolled": true
   },
   "outputs": [
    {
     "name": "stdout",
     "output_type": "stream",
     "text": [
      "0.0\n",
      "1799977.0\n",
      "[nan 'click' 'data' 'view' 'submit' 'message_post' '-unknown-'\n",
      " 'booking_request' 'partner_callback' 'booking_response' 'modify']\n"
     ]
    },
    {
     "name": "stderr",
     "output_type": "stream",
     "text": [
      "/Users/KimHongTae/anaconda/lib/python2.7/site-packages/IPython/kernel/__main__.py:6: FutureWarning: sort(columns=....) is deprecated, use sort_values(by=.....)\n"
     ]
    },
    {
     "data": {
      "text/plain": [
       "<matplotlib.axes._subplots.AxesSubplot at 0x12d8037d0>"
      ]
     },
     "execution_count": 37,
     "metadata": {},
     "output_type": "execute_result"
    },
    {
     "data": {
      "image/png": "[encoded data removed]",
      "text/plain": [
       "<matplotlib.figure.Figure at 0x12ce10110>"
      ]
     },
     "metadata": {},
     "output_type": "display_data"
    }
   ],
   "source": [
    "print sessions['secs_elapsed'].min()\n",
    "print sessions['secs_elapsed'].max()\n",
    "print sessions['action_type'].unique()\n",
    "# print sessions['action'].unique()\n",
    "\n",
    "temp  = sessions.groupby('action_type', as_index=False).agg({'user_id':pd.Series.count}).sort('user_id', ascending=0)\n",
    "sns.barplot('action_type', 'user_id', palette=\"Set3\", data=temp)"
   ]
  },
  {
   "cell_type": "code",
   "execution_count": 38,
   "metadata": {
    "collapsed": false
   },
   "outputs": [
    {
     "data": {
      "text/html": [
       "<div>\n",
       "<table border=\"1\" class=\"dataframe\">\n",
       "  <thead>\n",
       "    <tr style=\"text-align: right;\">\n",
       "      <th></th>\n",
       "      <th>gender</th>\n",
       "      <th>age_bucket</th>\n",
       "      <th>country_destination</th>\n",
       "      <th>population_in_thousands_x</th>\n",
       "      <th>population_in_thousands_y</th>\n",
       "      <th>prob</th>\n",
       "      <th>age_min</th>\n",
       "      <th>age_max</th>\n",
       "      <th>binned_age</th>\n",
       "    </tr>\n",
       "  </thead>\n",
       "  <tbody>\n",
       "    <tr>\n",
       "      <th>0</th>\n",
       "      <td>female</td>\n",
       "      <td>0-4</td>\n",
       "      <td>AU</td>\n",
       "      <td>781</td>\n",
       "      <td>20861</td>\n",
       "      <td>0.037438</td>\n",
       "      <td>0</td>\n",
       "      <td>4</td>\n",
       "      <td>0</td>\n",
       "    </tr>\n",
       "    <tr>\n",
       "      <th>1</th>\n",
       "      <td>female</td>\n",
       "      <td>0-4</td>\n",
       "      <td>CA</td>\n",
       "      <td>991</td>\n",
       "      <td>20861</td>\n",
       "      <td>0.047505</td>\n",
       "      <td>0</td>\n",
       "      <td>4</td>\n",
       "      <td>0</td>\n",
       "    </tr>\n",
       "    <tr>\n",
       "      <th>2</th>\n",
       "      <td>female</td>\n",
       "      <td>0-4</td>\n",
       "      <td>DE</td>\n",
       "      <td>1713</td>\n",
       "      <td>20861</td>\n",
       "      <td>0.082115</td>\n",
       "      <td>0</td>\n",
       "      <td>4</td>\n",
       "      <td>0</td>\n",
       "    </tr>\n",
       "    <tr>\n",
       "      <th>3</th>\n",
       "      <td>female</td>\n",
       "      <td>0-4</td>\n",
       "      <td>ES</td>\n",
       "      <td>1198</td>\n",
       "      <td>20861</td>\n",
       "      <td>0.057428</td>\n",
       "      <td>0</td>\n",
       "      <td>4</td>\n",
       "      <td>0</td>\n",
       "    </tr>\n",
       "    <tr>\n",
       "      <th>4</th>\n",
       "      <td>female</td>\n",
       "      <td>0-4</td>\n",
       "      <td>FR</td>\n",
       "      <td>1938</td>\n",
       "      <td>20861</td>\n",
       "      <td>0.092901</td>\n",
       "      <td>0</td>\n",
       "      <td>4</td>\n",
       "      <td>0</td>\n",
       "    </tr>\n",
       "  </tbody>\n",
       "</table>\n",
       "</div>"
      ],
      "text/plain": [
       "   gender age_bucket country_destination  population_in_thousands_x  \\\n",
       "0  female        0-4                  AU                        781   \n",
       "1  female        0-4                  CA                        991   \n",
       "2  female        0-4                  DE                       1713   \n",
       "3  female        0-4                  ES                       1198   \n",
       "4  female        0-4                  FR                       1938   \n",
       "\n",
       "   population_in_thousands_y      prob age_min age_max  binned_age  \n",
       "0                      20861  0.037438       0       4           0  \n",
       "1                      20861  0.047505       0       4           0  \n",
       "2                      20861  0.082115       0       4           0  \n",
       "3                      20861  0.057428       0       4           0  \n",
       "4                      20861  0.092901       0       4           0  "
      ]
     },
     "execution_count": 38,
     "metadata": {},
     "output_type": "execute_result"
    }
   ],
   "source": [
    "sex_age_dest_group = age_gender.groupby(['gender','age_bucket','country_destination'], as_index=False)\\\n",
    ".agg({'population_in_thousands':pd.Series.sum})\n",
    "\n",
    "sex_age_sum = sex_age_dest_group.groupby(['gender','age_bucket'], as_index=False)\\\n",
    "['population_in_thousands'].sum()\n",
    "sex_age_sum.head()\n",
    "\n",
    "sex_age_dest_group = pd.merge(sex_age_dest_group, sex_age_sum, how='left', on=['gender', 'age_bucket'])\n",
    "sex_age_dest_group['prob'] = sex_age_dest_group['population_in_thousands_x'] / sex_age_dest_group['population_in_thousands_y']\n",
    "\n",
    "\n",
    "age_min =[]\n",
    "age_max =[]\n",
    "binned_age = []\n",
    "\n",
    "for idx in sex_age_dest_group['age_bucket']:\n",
    "    if '-' in idx:\n",
    "        age_min.append(idx.split('-')[0])\n",
    "        age_max.append(idx.split('-')[1])\n",
    "        binned_age.append(int(idx.split('-')[0])/5)\n",
    "    \n",
    "    else:\n",
    "        age_min.append(999)\n",
    "        age_max.append(1000)\n",
    "        binned_age.append(20)\n",
    "\n",
    "\n",
    "sex_age_dest_group['age_min'] = age_min\n",
    "sex_age_dest_group['age_max'] = age_max\n",
    "sex_age_dest_group['binned_age'] = binned_age\n",
    "\n",
    "sex_age_dest_group.head()"
   ]
  },
  {
   "cell_type": "code",
   "execution_count": 39,
   "metadata": {
    "collapsed": false
   },
   "outputs": [
    {
     "name": "stdout",
     "output_type": "stream",
     "text": [
      "      user_id          action action_type        action_detail  \\\n",
      "0  d1mm9tcy42          lookup         NaN                 -100   \n",
      "1  d1mm9tcy42  search_results       click  view_search_results   \n",
      "2  d1mm9tcy42          lookup         NaN                 -100   \n",
      "3  d1mm9tcy42  search_results       click  view_search_results   \n",
      "4  d1mm9tcy42          lookup         NaN                 -100   \n",
      "\n",
      "       device_type  secs_elapsed  \n",
      "0  Windows Desktop           319  \n",
      "1  Windows Desktop         67753  \n",
      "2  Windows Desktop           301  \n",
      "3  Windows Desktop         22141  \n",
      "4  Windows Desktop           435  \n",
      "<class 'pandas.core.frame.DataFrame'>\n",
      "Int64Index: 10567737 entries, 0 to 10567736\n",
      "Data columns (total 6 columns):\n",
      "user_id          object\n",
      "action           object\n",
      "action_type      object\n",
      "action_detail    object\n",
      "device_type      object\n",
      "secs_elapsed     float64\n",
      "dtypes: float64(1), object(5)\n",
      "memory usage: 564.4+ MB\n",
      "None\n",
      "user_id          135483\n",
      "action              359\n",
      "action_type          10\n",
      "action_detail       156\n",
      "device_type          14\n",
      "secs_elapsed     337661\n",
      "dtype: int64\n",
      "<class 'pandas.core.frame.DataFrame'>\n",
      "Int64Index: 135483 entries, 0 to 135482\n",
      "Data columns (total 11 columns):\n",
      "user_id                             135483 non-null object\n",
      "-unknown-                           135483 non-null int64\n",
      "Android App Unknown Phone/Tablet    135483 non-null int64\n",
      "Android Phone                       135483 non-null int64\n",
      "Chromebook                          135483 non-null int64\n",
      "Linux Desktop                       135483 non-null int64\n",
      "Mac Desktop                         135483 non-null int64\n",
      "Tablet                              135483 non-null int64\n",
      "Windows Desktop                     135483 non-null int64\n",
      "iPad Tablet                         135483 non-null int64\n",
      "iPhone                              135483 non-null int64\n",
      "dtypes: int64(10), object(1)\n",
      "memory usage: 12.4+ MB\n",
      "None\n",
      "      user_id  -unknown-_x  booking_request  click  data  message_post  \\\n",
      "0  00023iyk9l            0                1      4     9             1   \n",
      "1  0010k6l0om            5                0     16     9             0   \n",
      "2  001wyh0pz8            6                0     66     2             0   \n",
      "3  0028jgx1x1            1                0      9     5             0   \n",
      "4  002qnbzfs5          184                1    140   140            16   \n",
      "\n",
      "   modify  partner_callback  submit  view      ...       \\\n",
      "0       0                 1       0    21      ...        \n",
      "1       0                 1       0    17      ...        \n",
      "2       0                 0       3     8      ...        \n",
      "3       0                 0       1    15      ...        \n",
      "4       0                 0      15   216      ...        \n",
      "\n",
      "   Android App Unknown Phone/Tablet  Android Phone  Chromebook  Linux Desktop  \\\n",
      "0                                 0              0           0              0   \n",
      "1                                 0              0           0              0   \n",
      "2                                90              0           0              0   \n",
      "3                                 0              1           0              0   \n",
      "4                                 0              0           0              0   \n",
      "\n",
      "   Mac Desktop  Tablet  Windows Desktop  iPad Tablet  iPhone  secs_elapsed  \n",
      "0           36       0                0            0       4        867896  \n",
      "1           63       0                0            0       0        586543  \n",
      "2            0       0                0            0       0        282965  \n",
      "3            0       0                0            0       0        297010  \n",
      "4            0       0                0            0     775       6487080  \n",
      "\n",
      "[5 rows x 21 columns]\n"
     ]
    }
   ],
   "source": [
    "import sys\n",
    "\n",
    "print(sessions.head())\n",
    "print(sessions.info())\n",
    "print(sessions.apply(lambda x: x.nunique(),axis=0))\n",
    "\n",
    "#sessions['action'] = sessions['action'].fillna('999')\n",
    "#data roll-up\n",
    "#secs_elapsed\n",
    "grpby = sessions.groupby(['user_id'])['secs_elapsed'].sum().reset_index()\n",
    "grpby.columns = ['user_id','secs_elapsed']\n",
    "\n",
    "# agg = grpby['secs_elapsed'].agg({'time_spent' : np.sum})\n",
    "\n",
    "#action\n",
    "#print(sessions.action_type.value_counts())\n",
    "#print(sessions.groupby(['action_type'])['user_id'].nunique().reset_index())\n",
    "action_type = pd.pivot_table(sessions, index = ['user_id'],columns = ['action_type'],values = 'action',aggfunc=len,fill_value=0).reset_index()\n",
    "action_type = action_type.drop(['booking_response'],axis=1)\n",
    "#print(action_type.head())\n",
    "\n",
    "#print(sessions.groupby(['device_type'])['user_id'].nunique().reset_index())\n",
    "#print(sessions.groupby(['user_id'])['device_type'].nunique().reset_index())\n",
    "device_type = pd.pivot_table(sessions, index = ['user_id'],columns = ['device_type'],values = 'action',aggfunc=len,fill_value=0).reset_index()\n",
    "device_type = device_type.drop(['Blackberry','Opera Phone','iPodtouch','Windows Phone'],axis=1)\n",
    "#device_type = device_type.replace(device_type.iloc[:,1:]>0,1)\n",
    "print(device_type.info())\n",
    "\n",
    "sessions_data = pd.merge(action_type,device_type,on='user_id',how='inner')\n",
    "\n",
    "sessions_data = pd.merge(sessions_data,grpby,on='user_id',how='inner')\n",
    "print(sessions_data.head())"
   ]
  },
  {
   "cell_type": "code",
   "execution_count": 42,
   "metadata": {
    "collapsed": false,
    "scrolled": false
   },
   "outputs": [],
   "source": [
    "import numpy as np\n",
    "import pandas as pd\n",
    "# import sklearn.preprocessing.LabelEncoder\n",
    "from sklearn.preprocessing import LabelEncoder\n",
    "from sklearn.ensemble import RandomForestClassifier\n",
    "from sklearn.datasets import make_hastie_10_2\n",
    "from sklearn.ensemble import GradientBoostingClassifier\n",
    "from sklearn import linear_model as lm\n",
    "# from sklearn.neural_network import MLPClassifier\n",
    "\n",
    "# from xgboost.sklearn import XGBClassifier\n",
    "# import xgboost as xgb\n",
    "np.random.seed(0)\n",
    "\n",
    "#Loading data\n",
    "df_train = pd.read_csv('train_users_2.csv')\n",
    "df_test = pd.read_csv('test_users 2.csv')\n",
    "labels = df_train['country_destination'].values\n",
    "df_train = df_train.drop(['country_destination'], axis=1)\n",
    "id_test = df_test['id']\n",
    "piv_train = df_train.shape[0]\n",
    "\n",
    "#Creating a DataFrame with train+test data\n",
    "df_all = pd.concat((df_train, df_test), axis=0, ignore_index=True)\n",
    "\n",
    "#Merge levenshtein_distance to US\n",
    "countries_piv = pd.pivot_table(countries,index='destination_language ',values='language_levenshtein_distance')\n",
    "countries_piv.index = ['de','en','fr','it','nl','pt','es']\n",
    "countries_piv = Series.to_frame(countries_piv)\n",
    "countries_piv['lang']=countries_piv.index\n",
    "\n",
    "df_all = pd.merge(df_all,countries_piv, how='left', left_on='language',right_on='lang')\n",
    "df_all = df_all.drop(['lang'], axis=1)\n",
    "df_all['language_levenshtein_distance'].fillna(150)\n",
    "\n",
    "\n",
    "## join session aggregation data\n",
    "df_all = pd.merge(df_all,sessions_data, how='left', left_on='id', right_on='user_id')\n",
    "\n",
    "#Removing id and date_first_booking\n",
    "df_all = df_all.drop(['id','user_id', 'date_first_booking'], axis=1)\n",
    "#Filling nan\n",
    "df_all = df_all.fillna(-10)\n",
    "\n",
    "#####Feature engineering#######\n",
    "#date_account_created\n",
    "dac = np.vstack(df_all.date_account_created.astype(str).apply(lambda x: list(map(int, x.split('-')))).values)\n",
    "df_all['dac_year'] = dac[:,0]\n",
    "df_all['dac_month'] = dac[:,1]\n",
    "df_all['dac_day'] = dac[:,2]\n",
    "df_all = df_all.drop(['date_account_created'], axis=1)\n",
    "\n",
    "#timestamp_first_active\n",
    "tfa = np.vstack(df_all.timestamp_first_active.astype(str).apply(lambda x: list(map(int, [x[:4],x[4:6],x[6:8],x[8:10],x[10:12],x[12:14]]))).values)\n",
    "df_all['tfa_year'] = tfa[:,0]\n",
    "df_all['tfa_month'] = tfa[:,1]\n",
    "df_all['tfa_day'] = tfa[:,2]\n",
    "df_all = df_all.drop(['timestamp_first_active'], axis=1)\n",
    "\n",
    "\n",
    "#Age\n",
    "av = df_all.age.values\n",
    "df_all['age'] = np.where(np.logical_or(av<14, av>100), -1, av)\n",
    "\n",
    "#One-hot-encoding features\n",
    "ohe_feats = ['gender', 'signup_method', 'signup_flow', 'language', 'affiliate_channel', 'affiliate_provider', 'first_affiliate_tracked', 'signup_app', 'first_device_type', 'first_browser']\n",
    "for f in ohe_feats:\n",
    "    df_all_dummy = pd.get_dummies(df_all[f], prefix=f)\n",
    "    df_all = df_all.drop([f], axis=1)\n",
    "    df_all = pd.concat((df_all, df_all_dummy), axis=1)\n",
    "\n",
    "#Splitting train and test\n",
    "vals = df_all.values\n",
    "X = vals[:piv_train]\n",
    "\n",
    "le = LabelEncoder()\n",
    "y = le.fit_transform(labels)   \n",
    "X_test = vals[piv_train:]\n",
    "# weight_array_test = weight_array[piv_train:]\n",
    "\n",
    "#Classifier\n",
    "xgb = RandomForestClassifier(n_estimators=200, max_depth=20,min_samples_split=3, random_state=0)\n",
    "# xgb = GradientBoostingClassifier(n_estimators=200, learning_rate=1.0,\\\n",
    "#                                  max_depth=20, random_state=0).fit(X, y)\n",
    "\n",
    "xgb.fit(X, y)\n",
    "y_pred = xgb.predict_proba(X_test)\n",
    "\n",
    "\n",
    "\n",
    "### Logistic Regression\n",
    "clf = lm.LogisticRegression(penalty='l2', dual=False,\\\n",
    "                                      tol=0.0001, C=1.5, fit_intercept=True,\\\n",
    "                                      intercept_scaling=1, class_weight='balanced',\\\n",
    "                                      random_state=None)\n",
    "clf.fit(X, y)\n",
    "y_pred_logit = clf.predict_proba(X_test)\n",
    "\n",
    "\n",
    "\n",
    "#Taking the 5 classes with highest probabilities\n",
    "ids = []  #list of ids\n",
    "cts = []  #list of countries\n",
    "\n",
    "for i in range(len(id_test)):\n",
    "    idx = id_test[i]\n",
    "    ids += [idx] * 5\n",
    "    cts += le.inverse_transform(np.argsort(y_pred[i])[::-1])[:5].tolist()\n",
    "\n",
    "#Generate submission\n",
    "sub = pd.DataFrame(np.column_stack((ids, cts)), columns=['id', 'country'])"
   ]
  },
  {
   "cell_type": "code",
   "execution_count": 43,
   "metadata": {
    "collapsed": false
   },
   "outputs": [],
   "source": [
    "sub.to_csv('sub.csv',index=False)"
   ]
  },
  {
   "cell_type": "code",
   "execution_count": null,
   "metadata": {
    "collapsed": true
   },
   "outputs": [],
   "source": [
    "## initialize population prob. matrix for df_test\n",
    "weight_array = []\n",
    "temp_idx = 0\n",
    "NDF_other_weight = [0.58495059, 0.04740926]\n",
    "\n",
    "for idx in list(zip(df_all['age'],df_all['gender'])):\n",
    "    if idx[1] == 'FEMALE':\n",
    "        if idx[0] != '100+' and idx[0] != -1:\n",
    "            age_gender_cond = np.logical_and(sex_age_dest_group['gender'] =='female',\\\n",
    "                                             sex_age_dest_group['binned_age'] == int(idx[0]/5))\n",
    "            weight_array.append([0.36764015*i for i in sex_age_dest_group[age_gender_cond]['prob']])\n",
    "            weight_array[temp_idx] += NDF_other_weight\n",
    "        else:\n",
    "            weight_array.append((1/12)*np.ones((12)))\n",
    "    \n",
    "    elif idx[1] == 'MALE':\n",
    "        if idx[0] != '100+' and idx[0] != -1:\n",
    "            age_gender_cond = np.logical_and(sex_age_dest_group['gender'] =='male',\\\n",
    "                                             sex_age_dest_group['binned_age'] == int(idx[0]/5))\n",
    "            weight_array.append([0.36764015*i for i in sex_age_dest_group[age_gender_cond]['prob']])\n",
    "            weight_array[temp_idx] += NDF_other_weight\n",
    "\n",
    "        else:\n",
    "            weight_array.append((1/12)*np.ones((12)))\n",
    "    \n",
    "    else:\n",
    "        weight_array.append((1/12)*np.ones((12)))\n",
    "    \n",
    "    temp_idx += 1\n",
    "\n",
    "    \n",
    "for idx in y_pred:\n",
    "    idx = 0.9*idx\n",
    "\n",
    "for idx in weight_array_test:\n",
    "    [0.1*i for i in idx]\n",
    "    \n",
    "for idx in np.arange(df_test.shape[0]):\n",
    "    y_pred[idx] += weight_array_test[idx]"
   ]
  },
  {
   "cell_type": "code",
   "execution_count": null,
   "metadata": {
    "collapsed": false
   },
   "outputs": [],
   "source": [
    "feat_import = xgb.feature_importances_.argsort()[::-1]\n",
    "print feat_import\n",
    "col = df_all.columns\n",
    "col_import = col[feat_import]\n",
    "col_import"
   ]
  },
  {
   "cell_type": "code",
   "execution_count": null,
   "metadata": {
    "collapsed": true
   },
   "outputs": [],
   "source": []
  }
 ],
 "metadata": {
  "kernelspec": {
   "display_name": "Python 2",
   "language": "python",
   "name": "python2"
  },
  "language_info": {
   "codemirror_mode": {
    "name": "ipython",
    "version": 2
   },
   "file_extension": ".py",
   "mimetype": "text/x-python",
   "name": "python",
   "nbconvert_exporter": "python",
   "pygments_lexer": "ipython2",
   "version": "2.7.11"
  }
 },
 "nbformat": 4,
 "nbformat_minor": 0
}
